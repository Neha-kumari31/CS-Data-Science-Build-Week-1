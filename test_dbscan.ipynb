{
  "nbformat": 4,
  "nbformat_minor": 0,
  "metadata": {
    "colab": {
      "name": "test_dbscan.ipynb",
      "provenance": []
    },
    "kernelspec": {
      "name": "python3",
      "display_name": "Python 3"
    }
  },
  "cells": [
    {
      "cell_type": "code",
      "metadata": {
        "id": "EABST7El4NM9"
      },
      "source": [
        "# scikit-learn imports\n",
        "from sklearn.datasets.samples_generator import make_blobs\n",
        "from sklearn.cluster import DBSCAN\n",
        "\n",
        "# custom DBSCAN\n",
        "from dbscan import DB_SCAN\n",
        "\n",
        "# plotting\n",
        "import altair as alt\n",
        "import pandas as pd"
      ],
      "execution_count": 1,
      "outputs": []
    },
    {
      "cell_type": "code",
      "metadata": {
        "id": "AdxzXA-x4Po_"
      },
      "source": [
        "# Create three gaussian blobs to use as our clustering data.\n",
        "centers = [[1, 1], [-1, -1], [1, -1]]\n",
        "X, true_labels = make_blobs(n_samples=750, centers=centers, cluster_std=0.4,\n",
        "                            random_state=0)"
      ],
      "execution_count": 3,
      "outputs": []
    },
    {
      "cell_type": "code",
      "metadata": {
        "id": "_LBEwod0G1HY"
      },
      "source": [
        "# dataframe for plotting\n",
        "df = pd.DataFrame(data=X,columns=['x','y'])\n",
        "df['true_labels'] = true_labels"
      ],
      "execution_count": 4,
      "outputs": []
    },
    {
      "cell_type": "code",
      "metadata": {
        "id": "yKrhR_yUG5Ks"
      },
      "source": [
        "# run sklearn's implementation and add its labels\n",
        "sk_labels = DBSCAN(eps=0.3, min_samples=10).fit_predict(X)\n",
        "df['sk_labels'] = sk_labels\n",
        "\n",
        "# run custom implementation and add its labels.\n",
        "custom_labels = DB_SCAN(eps_radius=0.3, min_points=10).fit_predict(X)\n",
        "df['custom_labels'] = custom_labels"
      ],
      "execution_count": null,
      "outputs": []
    },
    {
      "cell_type": "code",
      "metadata": {
        "id": "Ukiap02hov_I"
      },
      "source": [
        "df"
      ],
      "execution_count": null,
      "outputs": []
    },
    {
      "cell_type": "code",
      "metadata": {
        "id": "wGjUGCrGowCL"
      },
      "source": [
        "# true labels\n",
        "alt.Chart(df).mark_circle(size=60).encode(\n",
        "    x='x',\n",
        "    y='y',\n",
        "    color=alt.Color('true_labels', scale=alt.Scale(scheme='inferno')),\n",
        ")"
      ],
      "execution_count": null,
      "outputs": []
    },
    {
      "cell_type": "code",
      "metadata": {
        "id": "cmbnhZvhp9pP"
      },
      "source": [
        "# sk labels\n",
        "alt.Chart(df).mark_circle(size=60).encode(\n",
        "    x='x',\n",
        "    y='y',\n",
        "    color=alt.Color('sk_labels', scale=alt.Scale(scheme='inferno')),\n",
        ")"
      ],
      "execution_count": null,
      "outputs": []
    },
    {
      "cell_type": "code",
      "metadata": {
        "id": "Aa2WzfGWqAXu"
      },
      "source": [
        "# custom labels\n",
        "alt.Chart(df).mark_circle(size=60).encode(\n",
        "    x='x',\n",
        "    y='y',\n",
        "    color=alt.Color('custom_labels', scale=alt.Scale(scheme='inferno')),\n",
        ")"
      ],
      "execution_count": null,
      "outputs": []
    },
    {
      "cell_type": "code",
      "metadata": {
        "id": "uzz9-Kg-pBrt"
      },
      "source": [
        "\n",
        "# pull iris data\n",
        "\n",
        "iris = pd.read_csv('https://archive.ics.uci.edu/ml/machine-learning-databases/iris/iris.data', \n",
        "                    header=None, names=['sepal_length','sepal_width','petal_length','petal_width','true_labels'])"
      ],
      "execution_count": null,
      "outputs": []
    },
    {
      "cell_type": "code",
      "metadata": {
        "id": "duO_ROYzpBuk"
      },
      "source": [
        "# run sklearn's implementation and add its labels\n",
        "sk_labels = DBSCAN(eps=0.525, min_samples=13).fit_predict(iris.iloc[:,:4].values)\n",
        "iris['sk_labels'] = sk_labels\n",
        "\n",
        "# run custom implementation and add its labels.\n",
        "custom_labels = DB_SCAN(eps_radius=0.525, min_points=13).fit_predict(iris.iloc[:,:4].values)\n",
        "iris['custom_labels'] = custom_labels"
      ],
      "execution_count": null,
      "outputs": []
    },
    {
      "cell_type": "code",
      "metadata": {
        "id": "bnzB7q6upB23"
      },
      "source": [
        "# true labels\n",
        "alt.Chart(iris).mark_circle(size=60).encode(\n",
        "    x='sepal_length',\n",
        "    y='petal_width',\n",
        "    color=alt.Color('true_labels', scale=alt.Scale(scheme='inferno')),\n",
        ")"
      ],
      "execution_count": null,
      "outputs": []
    },
    {
      "cell_type": "code",
      "metadata": {
        "id": "0WPNHSzOpT-r"
      },
      "source": [
        "# sk labels\n",
        "alt.Chart(iris).mark_circle(size=60).encode(\n",
        "    x='sepal_length',\n",
        "    y='petal_width',\n",
        "    color=alt.Color('sk_labels', scale=alt.Scale(scheme='inferno')),\n",
        ")"
      ],
      "execution_count": null,
      "outputs": []
    },
    {
      "cell_type": "code",
      "metadata": {
        "id": "sBNEZVvtpUA1"
      },
      "source": [
        "# custom labels\n",
        "alt.Chart(iris).mark_circle(size=60).encode(\n",
        "    x='sepal_length',\n",
        "    y='petal_width',\n",
        "    color=alt.Color('custom_labels', scale=alt.Scale(scheme='inferno')),\n",
        ")"
      ],
      "execution_count": null,
      "outputs": []
    },
    {
      "cell_type": "code",
      "metadata": {
        "id": "vETM0hNGpUEZ"
      },
      "source": [
        ""
      ],
      "execution_count": null,
      "outputs": []
    },
    {
      "cell_type": "code",
      "metadata": {
        "id": "5-dT0JvDpUHe"
      },
      "source": [
        ""
      ],
      "execution_count": null,
      "outputs": []
    }
  ]
}